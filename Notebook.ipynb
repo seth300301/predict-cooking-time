{
 "cells": [
  {
   "cell_type": "code",
   "execution_count": 1,
   "id": "impossible-crowd",
   "metadata": {},
   "outputs": [],
   "source": [
    "import numpy as np\n",
    "import pandas as pd\n",
    "import math\n",
    "from collections import defaultdict\n",
    "import matplotlib.pyplot as plt\n",
    "import sklearn\n",
    "import ast\n",
    "from gensim import parsing\n",
    "import csv\n",
    "\n",
    "train = pd.read_csv(r\"recipe_train.csv\", index_col = False, delimiter = ',', header = 0)\n",
    "test = pd.read_csv(r\"recipe_test.csv\", index_col = False, delimiter = ',', header = 0)"
   ]
  },
  {
   "cell_type": "code",
   "execution_count": 2,
   "id": "passing-daughter",
   "metadata": {},
   "outputs": [],
   "source": [
    "train_name = pd.read_csv(r\"train_name_doc2vec100.csv\", index_col = False, delimiter = ',', header = None)\n",
    "train_ing = pd.read_csv(r\"train_ingr_doc2vec100.csv\", index_col = False, delimiter = ',', header = None)\n",
    "train_steps = pd.read_csv(r\"train_steps_doc2vec100.csv\", index_col = False, delimiter = ',', header = None)"
   ]
  },
  {
   "cell_type": "code",
   "execution_count": 3,
   "id": "wireless-romantic",
   "metadata": {},
   "outputs": [],
   "source": [
    "test_name = pd.read_csv(r\"test_name_doc2vec100.csv\", index_col = False, delimiter = ',', header = None)\n",
    "test_ing = pd.read_csv(r\"test_ingr_doc2vec100.csv\", index_col = False, delimiter = ',', header = None)\n",
    "test_steps = pd.read_csv(r\"test_steps_doc2vec100.csv\", index_col = False, delimiter = ',', header = None)"
   ]
  },
  {
   "cell_type": "code",
   "execution_count": 4,
   "id": "burning-norwegian",
   "metadata": {},
   "outputs": [],
   "source": [
    "# Forming the train input features to predict on (no. of steps, no. of ingredients, and the 100 features\n",
    "# from doc2vec100), as well as its ground truth labels\n",
    "\n",
    "final_recipe = []\n",
    "\n",
    "index = 0\n",
    "for row in range(len(train_ing)):\n",
    "    att_list = []\n",
    "    att_list.append(train['n_steps'][index])\n",
    "    att_list.append(train['n_ingredients'][index])\n",
    "    for feat in train_ing:\n",
    "        att_list.append(train_ing[feat][row])\n",
    "    for feat in train_steps:\n",
    "        att_list.append(train_steps[feat][row])\n",
    "    for feat in train_name:\n",
    "        att_list.append(train_name[feat][row])\n",
    "    final_recipe.append(att_list)\n",
    "    index += 1\n",
    "    \n",
    "final_recipe = np.array(final_recipe)\n",
    "X_train = final_recipe\n",
    "y_train = np.array(train['duration_label'])"
   ]
  },
  {
   "cell_type": "code",
   "execution_count": 5,
   "id": "careful-board",
   "metadata": {},
   "outputs": [],
   "source": [
    "# Forming the test input features to predict on (no. of steps, no. of ingredients, and the 100 features\n",
    "# from doc2vec100)\n",
    "\n",
    "final_recipe = []\n",
    "index = 0\n",
    "for row in range(len(test_ing)):\n",
    "    att_list = []\n",
    "    att_list.append(test['n_steps'][index])\n",
    "    att_list.append(test['n_ingredients'][index])\n",
    "    for feat in test_ing:\n",
    "        att_list.append(test_ing[feat][row])\n",
    "    for feat in test_steps:\n",
    "        att_list.append(test_steps[feat][row])\n",
    "    for feat in test_name:\n",
    "        att_list.append(test_name[feat][row])    \n",
    "    final_recipe.append(att_list)\n",
    "    index += 1\n",
    "\n",
    "final_recipe = np.array(final_recipe)\n",
    "X_test = final_recipe"
   ]
  },
  {
   "cell_type": "code",
   "execution_count": 6,
   "id": "challenging-shock",
   "metadata": {},
   "outputs": [
    {
     "name": "stdout",
     "output_type": "stream",
     "text": [
      "GNB 0.607675\n",
      "DecisionTree 0.5556\n",
      "StandardisedLinearSVC 0.718575\n",
      "LogisticRegression 0.723925\n",
      "StackingClassifier 0.726625\n"
     ]
    }
   ],
   "source": [
    "from sklearn.preprocessing import StandardScaler\n",
    "from sklearn.svm import LinearSVC\n",
    "from sklearn.naive_bayes import GaussianNB\n",
    "from sklearn.tree import DecisionTreeClassifier\n",
    "from sklearn.linear_model import LogisticRegression\n",
    "from sklearn.ensemble import StackingClassifier\n",
    "from sklearn.pipeline import make_pipeline\n",
    "from sklearn.model_selection import cross_val_score\n",
    "\n",
    "# to ignore long list of warnings for accuracies\n",
    "import warnings; warnings.simplefilter('ignore')\n",
    "\n",
    "Stacking = StackingClassifier(estimators = [('Standardised SVC', make_pipeline(StandardScaler(), LinearSVC())),\n",
    "                                            ('LR', LogisticRegression()),\n",
    "                                            ('GNB', GaussianNB()),\n",
    "                                            ('Decision Tree', DecisionTreeClassifier())], \n",
    "                              final_estimator = LogisticRegression())\n",
    "\n",
    "models = [GaussianNB(),\n",
    "          DecisionTreeClassifier(),\n",
    "          make_pipeline(StandardScaler(), LinearSVC()),\n",
    "          LogisticRegression(),\n",
    "          Stacking]\n",
    "\n",
    "titles = ['GNB',\n",
    "          'DecisionTree',\n",
    "          'StandardisedLinearSVC',\n",
    "          'LogisticRegression',\n",
    "          'StackingClassifier']\n",
    "\n",
    "# testing accuracies of different classifiers after training and predicting on the training set \n",
    "# using cross-validation with 10 partitions\n",
    "\n",
    "total_acc = defaultdict(float)\n",
    "\n",
    "for title, model in zip(titles, models):\n",
    "    total_acc[title] = cross_val_score(model, X_train, y_train, cv = 10).mean()\n",
    "            \n",
    "for model in total_acc:\n",
    "    print(model, total_acc[model])"
   ]
  },
  {
   "cell_type": "code",
   "execution_count": 12,
   "id": "architectural-colleague",
   "metadata": {},
   "outputs": [
    {
     "name": "stdout",
     "output_type": "stream",
     "text": [
      "Error Rate for GNB: 0.39232500000000003\n",
      "Error Rate for DecisionTree: 0.4444\n",
      "Error Rate for StandardisedLinearSVC: 0.28142500000000004\n",
      "Error Rate for LogisticRegression: 0.27607499999999996\n",
      "Error Rate for StackingClassifier: 0.27337500000000003\n"
     ]
    }
   ],
   "source": [
    "# error rate for each model\n",
    "\n",
    "for model in total_acc:\n",
    "    print(\"Error Rate for \" + model + \": \" + str(1 - float(total_acc[model])))"
   ]
  },
  {
   "cell_type": "code",
   "execution_count": 79,
   "id": "assumed-return",
   "metadata": {},
   "outputs": [],
   "source": [
    "# getting the predicted labels for the training set for each model\n",
    "\n",
    "pred_y_train = defaultdict()\n",
    "\n",
    "for title, model in zip(titles, models):\n",
    "    pred_y = []\n",
    "    for i in range (0,10):\n",
    "        curr_X_test = X_train[4000*i:4000*(i+1)]\n",
    "        curr_X_train = np.concatenate((X_train[:4000*i], X_train[4000*(i+1):]), axis = 0)\n",
    "        curr_y_train = np.concatenate((y_train[:4000*i], y_train[4000*(i+1):]), axis = 0)\n",
    "        model.fit(curr_X_train,curr_y_train)\n",
    "        pred_y.extend(model.predict(curr_X_test).tolist())\n",
    "    pred_y_train[title] = np.array(pred_y)"
   ]
  },
  {
   "cell_type": "code",
   "execution_count": 94,
   "id": "emotional-press",
   "metadata": {},
   "outputs": [
    {
     "name": "stdout",
     "output_type": "stream",
     "text": [
      "Macro Averaging Precision:\n",
      "GNB: 0.5249709123791567\n",
      "DecisionTree: 0.4211784594533096\n",
      "StandardisedLinearSVC: 0.7199050977957403\n",
      "LogisticRegression: 0.684373287301478\n",
      "StackingClassifier: 0.7025155470839755\n",
      "\n",
      "Micro Averaging Precision:\n",
      "GNB: 0.607625\n",
      "DecisionTree: 0.55825\n",
      "StandardisedLinearSVC: 0.719225\n",
      "LogisticRegression: 0.724125\n",
      "StackingClassifier: 0.727525\n",
      "\n",
      "Weighted Averaging Precision:\n",
      "GNB: 0.6158412035825978\n",
      "DecisionTree: 0.5609580388840013\n",
      "StandardisedLinearSVC: 0.7195424207506288\n",
      "LogisticRegression: 0.7207117864812979\n",
      "StackingClassifier: 0.7253376634101197\n",
      "\n"
     ]
    }
   ],
   "source": [
    "# calculating the macro, micro, and weighted averaging for Precision\n",
    "\n",
    "from sklearn.metrics import precision_score\n",
    "\n",
    "method_precisions = defaultdict()\n",
    "average = ['macro', 'micro', 'weighted']\n",
    "    \n",
    "for method in average:\n",
    "    method_models = defaultdict()\n",
    "    print(method[0].upper() + method[1:] + \" Averaging Precision:\")\n",
    "    for title in pred_y_train:\n",
    "        curr_result = precision_score(y_train, pred_y_train[title], average = method)\n",
    "        method_models[title] = curr_result\n",
    "        print(title + \": \" + str(curr_result))\n",
    "    method_precisions[method] = method_models\n",
    "    print(\"\")"
   ]
  },
  {
   "cell_type": "code",
   "execution_count": 96,
   "id": "willing-aquarium",
   "metadata": {
    "scrolled": true
   },
   "outputs": [
    {
     "name": "stdout",
     "output_type": "stream",
     "text": [
      "Macro Averaging Recall:\n",
      "GNB: 0.5371557233497738\n",
      "DecisionTree: 0.4223069223437424\n",
      "StandardisedLinearSVC: 0.5565846795050462\n",
      "LogisticRegression: 0.5930495640769664\n",
      "StackingClassifier: 0.6039317386356315\n",
      "\n",
      "Micro Averaging Recall:\n",
      "GNB: 0.607625\n",
      "DecisionTree: 0.55825\n",
      "StandardisedLinearSVC: 0.719225\n",
      "LogisticRegression: 0.724125\n",
      "StackingClassifier: 0.727525\n",
      "\n",
      "Weighted Averaging Recall:\n",
      "GNB: 0.607625\n",
      "DecisionTree: 0.55825\n",
      "StandardisedLinearSVC: 0.719225\n",
      "LogisticRegression: 0.724125\n",
      "StackingClassifier: 0.727525\n",
      "\n"
     ]
    }
   ],
   "source": [
    "# calculating the macro, micro, and weighted averaging for Recall\n",
    "\n",
    "from sklearn.metrics import recall_score\n",
    "\n",
    "method_recalls = defaultdict()\n",
    "\n",
    "for method in average:\n",
    "    method_models = defaultdict()\n",
    "    print(method[0].upper() + method[1:] + \" Averaging Recall:\")\n",
    "    for title in pred_y_train:\n",
    "        curr_result = recall_score(y_train, pred_y_train[title], average = method)\n",
    "        method_models[title] = curr_result\n",
    "        print(title + \": \" + str(curr_result))\n",
    "    method_recalls[method] = method_models\n",
    "    print(\"\")"
   ]
  },
  {
   "cell_type": "code",
   "execution_count": 95,
   "id": "vocal-louisville",
   "metadata": {},
   "outputs": [
    {
     "name": "stdout",
     "output_type": "stream",
     "text": [
      "Macro Averaging F1-Score:\n",
      "GNB: 0.5309934252483707\n",
      "DecisionTree: 0.42174193603749194\n",
      "StandardisedLinearSVC: 0.6277968774304952\n",
      "LogisticRegression: 0.6354470319081859\n",
      "StackingClassifier: 0.6495041023186685\n",
      "\n",
      "Micro Averaging F1-Score:\n",
      "GNB: 0.607625\n",
      "DecisionTree: 0.55825\n",
      "StandardisedLinearSVC: 0.719225\n",
      "LogisticRegression: 0.724125\n",
      "StackingClassifier: 0.7275250000000001\n",
      "\n",
      "Weighted Averaging F1-Score:\n",
      "GNB: 0.6117055137790134\n",
      "DecisionTree: 0.5596007432527925\n",
      "StandardisedLinearSVC: 0.7193836753606444\n",
      "LogisticRegression: 0.7224143616342305\n",
      "StackingClassifier: 0.7264296851484108\n",
      "\n"
     ]
    }
   ],
   "source": [
    "# calculating the macro, micro, and weighted averaging for F1 Score\n",
    "\n",
    "for method in average:\n",
    "    print(method[0].upper() + method[1:] + \" Averaging F1-Score:\")\n",
    "    for title in pred_y_train:\n",
    "        curr_result = (2*(method_precisions[method][title]*method_recalls[method][title])/\n",
    "                       (method_precisions[method][title]+method_recalls[method][title]))\n",
    "        print(title + \": \" + str(curr_result))\n",
    "    print(\"\")"
   ]
  },
  {
   "cell_type": "code",
   "execution_count": 7,
   "id": "liked-garlic",
   "metadata": {},
   "outputs": [],
   "source": [
    "# writing the predicted duration labels (class labels) of the test set for each model\n",
    "\n",
    "pred_y_tests = defaultdict()\n",
    "    \n",
    "for title, model in zip(titles, models):\n",
    "    model.fit(X_train,y_train)\n",
    "    pred_y_tests[title] = model.predict(X_test)"
   ]
  },
  {
   "cell_type": "code",
   "execution_count": 8,
   "id": "coupled-jacksonville",
   "metadata": {},
   "outputs": [],
   "source": [
    "# create CSVs for each model's predicted duration labels\n",
    "\n",
    "for model,labels in pred_y_tests.items():\n",
    "    filename = model + \".csv\"\n",
    "    f = open(filename, \"w+\")\n",
    "    f.write(\"id,duration_label\\n\")\n",
    "    \n",
    "    count = 1\n",
    "    for label in labels:\n",
    "        string = str(count) + \",\" + str(label) + \"\\n\"\n",
    "        f.write(string)\n",
    "        count += 1\n",
    "    \n",
    "    f.close()"
   ]
  },
  {
   "cell_type": "code",
   "execution_count": 185,
   "id": "diverse-astronomy",
   "metadata": {},
   "outputs": [
    {
     "data": {
      "image/png": "[encoded data removed]",
      "text/plain": [
       "<Figure size 432x288 with 25 Axes>"
      ]
     },
     "metadata": {
      "needs_background": "light"
     },
     "output_type": "display_data"
    }
   ],
   "source": [
    "# selects 25 random features out of the 300 from Doc2Vec100 and plots points based on value against frequency, \n",
    "# most resulting in normal distributions\n",
    "\n",
    "import random as rand\n",
    "\n",
    "random_list = []\n",
    "i = 25\n",
    "while (i > 0):\n",
    "    random_list.append(rand.randint(2,302))\n",
    "    i -= 1\n",
    "\n",
    "index = 1\n",
    "for i in random_list:\n",
    "    plt.subplot(5,5,index)\n",
    "    plt.hist(X_train[:,i], bins = 100)\n",
    "    index += 1\n",
    "    \n",
    "plt.show()"
   ]
  },
  {
   "cell_type": "code",
   "execution_count": 208,
   "id": "arabic-capture",
   "metadata": {},
   "outputs": [
    {
     "name": "stdout",
     "output_type": "stream",
     "text": [
      "Class 1 has 17705 instances\n",
      "Class 2 has 20246 instances\n",
      "Class 3 has 2049 instances\n"
     ]
    }
   ],
   "source": [
    "# finds the number of instances in each class in the training data\n",
    "\n",
    "count = defaultdict()\n",
    "\n",
    "for i in range(1,4):\n",
    "    count[i] = 0\n",
    "\n",
    "for label in y_train:\n",
    "    if (label == 1):\n",
    "        count[1] += 1\n",
    "    elif (label == 2):\n",
    "        count[2] += 1\n",
    "    else:\n",
    "        count[3] += 1\n",
    "\n",
    "for i in count:\n",
    "    print(\"Class \" + str(i) + \" has \" + str(count[i]) + \" instances\")"
   ]
  },
  {
   "cell_type": "code",
   "execution_count": 221,
   "id": "individual-computer",
   "metadata": {},
   "outputs": [
    {
     "data": {
      "text/plain": [
       "array([[12062,  5141,   502],\n",
       "       [ 7643, 11501,  1102],\n",
       "       [  774,   533,   742]])"
      ]
     },
     "execution_count": 221,
     "metadata": {},
     "output_type": "execute_result"
    }
   ],
   "source": [
    "from sklearn.metrics import confusion_matrix\n",
    "\n",
    "confusion_matrix(y_train, pred_y_train['GNB'], labels = [1,2,3])"
   ]
  },
  {
   "cell_type": "code",
   "execution_count": 222,
   "id": "excellent-arbor",
   "metadata": {},
   "outputs": [
    {
     "data": {
      "text/plain": [
       "array([[ 9953,  6846,   906],\n",
       "       [ 6943, 12164,  1139],\n",
       "       [  831,  1005,   213]])"
      ]
     },
     "execution_count": 222,
     "metadata": {},
     "output_type": "execute_result"
    }
   ],
   "source": [
    "confusion_matrix(y_train, pred_y_train['DecisionTree'], labels = [1,2,3])"
   ]
  },
  {
   "cell_type": "code",
   "execution_count": 223,
   "id": "excited-arrival",
   "metadata": {},
   "outputs": [
    {
     "data": {
      "text/plain": [
       "array([[13128,  4522,    55],\n",
       "       [ 4879, 15286,    81],\n",
       "       [  658,  1036,   355]])"
      ]
     },
     "execution_count": 223,
     "metadata": {},
     "output_type": "execute_result"
    }
   ],
   "source": [
    "confusion_matrix(y_train, pred_y_train['StandardisedLinearSVC'], labels = [1,2,3])"
   ]
  },
  {
   "cell_type": "code",
   "execution_count": 224,
   "id": "front-salem",
   "metadata": {},
   "outputs": [
    {
     "data": {
      "text/plain": [
       "array([[13024,  4541,   140],\n",
       "       [ 4640, 15357,   249],\n",
       "       [  549,   916,   584]])"
      ]
     },
     "execution_count": 224,
     "metadata": {},
     "output_type": "execute_result"
    }
   ],
   "source": [
    "confusion_matrix(y_train, pred_y_train['LogisticRegression'], labels = [1,2,3])"
   ]
  },
  {
   "cell_type": "code",
   "execution_count": 225,
   "id": "large-private",
   "metadata": {},
   "outputs": [
    {
     "data": {
      "text/plain": [
       "array([[12969,  4622,   114],\n",
       "       [ 4525, 15488,   233],\n",
       "       [  508,   897,   644]])"
      ]
     },
     "execution_count": 225,
     "metadata": {},
     "output_type": "execute_result"
    }
   ],
   "source": [
    "confusion_matrix(y_train, pred_y_train['StackingClassifier'], labels = [1,2,3])"
   ]
  },
  {
   "cell_type": "markdown",
   "id": "guided-toddler",
   "metadata": {},
   "source": [
    "Citation:\n",
    "\n",
    "Majumder, B. P., Li, S., Ni, J. & McAuley, J. Generating personalized recipes from historical user preferences. Proceedings of the 2019 Conference on Empirical Methods in Natural Language Processing and the 9th International Joint Conference on Natural Language Processing (EMNLP-IJCNLP), 2019."
   ]
  }
 ],
 "metadata": {
  "kernelspec": {
   "display_name": "Python 3",
   "language": "python",
   "name": "python3"
  },
  "language_info": {
   "codemirror_mode": {
    "name": "ipython",
    "version": 3
   },
   "file_extension": ".py",
   "mimetype": "text/x-python",
   "name": "python",
   "nbconvert_exporter": "python",
   "pygments_lexer": "ipython3",
   "version": "3.7.9"
  }
 },
 "nbformat": 4,
 "nbformat_minor": 5
}
